{
 "cells": [
  {
   "cell_type": "code",
   "execution_count": null,
   "metadata": {
    "colab": {
     "base_uri": "https://localhost:8080/"
    },
    "executionInfo": {
     "elapsed": 113624,
     "status": "ok",
     "timestamp": 1746959191317,
     "user": {
      "displayName": "구종빈",
      "userId": "04413789043138554649"
     },
     "user_tz": -540
    },
    "id": "q1UyNRGrpu0V",
    "outputId": "8a84bd7e-8ad5-48c3-9506-5416eaec4aef"
   },
   "outputs": [
    {
     "name": "stdout",
     "output_type": "stream",
     "text": [
      "\u001b[2K   \u001b[90m━━━━━━━━━━━━━━━━━━━━━━━━━━━━━━━━━━━━━━━━\u001b[0m \u001b[32m10.2/10.2 MB\u001b[0m \u001b[31m35.9 MB/s\u001b[0m eta \u001b[36m0:00:00\u001b[0m\n",
      "\u001b[2K   \u001b[90m━━━━━━━━━━━━━━━━━━━━━━━━━━━━━━━━━━━━━━━━\u001b[0m \u001b[32m491.2/491.2 kB\u001b[0m \u001b[31m28.7 MB/s\u001b[0m eta \u001b[36m0:00:00\u001b[0m\n",
      "\u001b[2K   \u001b[90m━━━━━━━━━━━━━━━━━━━━━━━━━━━━━━━━━━━━━━━━\u001b[0m \u001b[32m468.0/468.0 kB\u001b[0m \u001b[31m20.1 MB/s\u001b[0m eta \u001b[36m0:00:00\u001b[0m\n",
      "\u001b[2K   \u001b[90m━━━━━━━━━━━━━━━━━━━━━━━━━━━━━━━━━━━━━━━━\u001b[0m \u001b[32m363.4/363.4 MB\u001b[0m \u001b[31m4.2 MB/s\u001b[0m eta \u001b[36m0:00:00\u001b[0m\n",
      "\u001b[2K   \u001b[90m━━━━━━━━━━━━━━━━━━━━━━━━━━━━━━━━━━━━━━━━\u001b[0m \u001b[32m13.8/13.8 MB\u001b[0m \u001b[31m32.4 MB/s\u001b[0m eta \u001b[36m0:00:00\u001b[0m\n",
      "\u001b[2K   \u001b[90m━━━━━━━━━━━━━━━━━━━━━━━━━━━━━━━━━━━━━━━━\u001b[0m \u001b[32m24.6/24.6 MB\u001b[0m \u001b[31m35.5 MB/s\u001b[0m eta \u001b[36m0:00:00\u001b[0m\n",
      "\u001b[2K   \u001b[90m━━━━━━━━━━━━━━━━━━━━━━━━━━━━━━━━━━━━━━━━\u001b[0m \u001b[32m883.7/883.7 kB\u001b[0m \u001b[31m34.0 MB/s\u001b[0m eta \u001b[36m0:00:00\u001b[0m\n",
      "\u001b[2K   \u001b[90m━━━━━━━━━━━━━━━━━━━━━━━━━━━━━━━━━━━━━━━━\u001b[0m \u001b[32m664.8/664.8 MB\u001b[0m \u001b[31m2.9 MB/s\u001b[0m eta \u001b[36m0:00:00\u001b[0m\n",
      "\u001b[2K   \u001b[90m━━━━━━━━━━━━━━━━━━━━━━━━━━━━━━━━━━━━━━━━\u001b[0m \u001b[32m211.5/211.5 MB\u001b[0m \u001b[31m5.5 MB/s\u001b[0m eta \u001b[36m0:00:00\u001b[0m\n",
      "\u001b[2K   \u001b[90m━━━━━━━━━━━━━━━━━━━━━━━━━━━━━━━━━━━━━━━━\u001b[0m \u001b[32m56.3/56.3 MB\u001b[0m \u001b[31m20.6 MB/s\u001b[0m eta \u001b[36m0:00:00\u001b[0m\n",
      "\u001b[2K   \u001b[90m━━━━━━━━━━━━━━━━━━━━━━━━━━━━━━━━━━━━━━━━\u001b[0m \u001b[32m127.9/127.9 MB\u001b[0m \u001b[31m7.5 MB/s\u001b[0m eta \u001b[36m0:00:00\u001b[0m\n",
      "\u001b[2K   \u001b[90m━━━━━━━━━━━━━━━━━━━━━━━━━━━━━━━━━━━━━━━━\u001b[0m \u001b[32m207.5/207.5 MB\u001b[0m \u001b[31m5.6 MB/s\u001b[0m eta \u001b[36m0:00:00\u001b[0m\n",
      "\u001b[2K   \u001b[90m━━━━━━━━━━━━━━━━━━━━━━━━━━━━━━━━━━━━━━━━\u001b[0m \u001b[32m21.1/21.1 MB\u001b[0m \u001b[31m100.3 MB/s\u001b[0m eta \u001b[36m0:00:00\u001b[0m\n",
      "\u001b[2K   \u001b[90m━━━━━━━━━━━━━━━━━━━━━━━━━━━━━━━━━━━━━━━━\u001b[0m \u001b[32m116.3/116.3 kB\u001b[0m \u001b[31m11.1 MB/s\u001b[0m eta \u001b[36m0:00:00\u001b[0m\n",
      "\u001b[2K   \u001b[90m━━━━━━━━━━━━━━━━━━━━━━━━━━━━━━━━━━━━━━━━\u001b[0m \u001b[32m183.9/183.9 kB\u001b[0m \u001b[31m17.0 MB/s\u001b[0m eta \u001b[36m0:00:00\u001b[0m\n",
      "\u001b[2K   \u001b[90m━━━━━━━━━━━━━━━━━━━━━━━━━━━━━━━━━━━━━━━━\u001b[0m \u001b[32m143.5/143.5 kB\u001b[0m \u001b[31m14.5 MB/s\u001b[0m eta \u001b[36m0:00:00\u001b[0m\n",
      "\u001b[2K   \u001b[90m━━━━━━━━━━━━━━━━━━━━━━━━━━━━━━━━━━━━━━━━\u001b[0m \u001b[32m194.8/194.8 kB\u001b[0m \u001b[31m17.9 MB/s\u001b[0m eta \u001b[36m0:00:00\u001b[0m\n",
      "\u001b[?25h\u001b[31mERROR: pip's dependency resolver does not currently take into account all the packages that are installed. This behaviour is the source of the following dependency conflicts.\n",
      "gcsfs 2025.3.2 requires fsspec==2025.3.2, but you have fsspec 2024.12.0 which is incompatible.\u001b[0m\u001b[31m\n",
      "\u001b[0m"
     ]
    }
   ],
   "source": [
    "!pip install transformers==4.50.0 datasets==3.5.0 huggingface_hub==0.29.0 peft accelerate torch scikit-learn -qqq"
   ]
  },
  {
   "cell_type": "code",
   "execution_count": null,
   "metadata": {
    "colab": {
     "base_uri": "https://localhost:8080/"
    },
    "executionInfo": {
     "elapsed": 6867,
     "status": "ok",
     "timestamp": 1746959201977,
     "user": {
      "displayName": "구종빈",
      "userId": "04413789043138554649"
     },
     "user_tz": -540
    },
    "id": "xMczNF0z37HU",
    "outputId": "c0200d0b-98a4-47eb-cb97-0984e405bc9b"
   },
   "outputs": [
    {
     "name": "stdout",
     "output_type": "stream",
     "text": [
      "GPU 사용 가능 (CUDA)\n",
      "→ 사용 중인 GPU: Tesla T4\n"
     ]
    }
   ],
   "source": [
    "import torch\n",
    "\n",
    "if torch.cuda.is_available():\n",
    "    print(\"GPU 사용 가능 (CUDA)\")\n",
    "    print(f\"→ 사용 중인 GPU: {torch.cuda.get_device_name(0)}\")\n",
    "else:\n",
    "    print(\"GPU 사용 불가 (현재 CPU 모드)\")"
   ]
  },
  {
   "cell_type": "code",
   "execution_count": null,
   "metadata": {
    "colab": {
     "base_uri": "https://localhost:8080/",
     "height": 547,
     "referenced_widgets": [
      "b8f7d013b3ec4821ba99db53ea201c36",
      "7c95f360f7484c15ab91232412b6fed4",
      "7c3c9722db8842e787166aed01ce0cf9",
      "66c390cf00104ad9ab652c3d8ae49aec",
      "b6f3eb8f8b9d4e93aee09eda972930ee",
      "101299c15f7e4d11acbe9f1b9a363bf4",
      "c600035a8cb7476d980134ecc54a11d6",
      "40201bfcc77b429a8de28e6656b0ac1a",
      "a2bc1bf26a3e4f13b704a4f775be38a7",
      "c65094304bdd45d7b900ed149a8b0287",
      "9ba664e6245e4073b7fd6a9514b09d41",
      "21264752f0074129a188c6713208423a",
      "3c17185d875745c8a7ff75c4305d780e",
      "7f043ae046d0422b8334a48e97293246",
      "f7c75b5cae7c4c6a9982427327bd5955",
      "4c12ca0d4cfa48eb8a6da4dce0b97264",
      "8e15edc913a14dbcb99b9e319399d536",
      "401574d3343b4510a8e18734ca10315f",
      "515ed5aeb7d44d4b8f77b02a39ca8b3c",
      "abb43f85a4fe4edea6c3603d1dfdcae7",
      "660bcee8d87541778c7d50eb5bcb5439",
      "b14700fc538341ec9c30a14155782c3e",
      "25ffc0a970ab4ca48113e77e27d4ba2c",
      "e4126e23c92e4343b91505c59f6205ca",
      "ebfe797b6927448b9456b21385a04d00",
      "30cdd2708ab0433e93114bad4a1f1c8e",
      "0c2c431d3d2a4eb6b792cdf5f8ead7da",
      "4a606fa694114d0caae473b33e481883",
      "c5b898f7675f4374bdb11279a5c7e6ef",
      "f4559ece7e7b40e0b2a8c4739384be85",
      "2b14b24c2b684e23b36634c9df827a88",
      "98dc1eb9ca684281a9ec8838566171ba",
      "f44356aa1e0d4e28ae25aa4d06e6a587",
      "61b26fcc8e6e4610af98eb840037cd4c",
      "03df4ed18fdb45449c32f6282f183bb1",
      "5548ea1760d54b5eba58f969dca7f014",
      "ded87cc00882484f991aedce86a5a6a8",
      "f88b400f24fc4eb5a7a7516616d8b4b3",
      "e77b47cf1cf04ce6a083c94a6bbe0da2",
      "0ef19b96559a47f195e214c481ce0325",
      "a77b0ec3c80f4f37999a12f8b4fb1ae2",
      "db9a2c0a7d764141b33f36f5467c8400",
      "597f8b15da19446492015043daefa374",
      "f409eb3f386b412d8283adbfd6846db3",
      "c0f3b90930604232af3a58883fd94685",
      "d80231dba5ed45fa8be69f74b40e6a53",
      "5eeabb287c6a4793a593b7d5e2cbc448",
      "507caf82dfbe4ade856833b692b18984",
      "812ecbe4117a4318863856abad7be422",
      "b5e5b9de2f78496ebb76931de40f6b33",
      "e5b6ac00c64c48c49033913ddb5dac97",
      "c75514020c5d4cbbbc1aa9aecf61468e",
      "00f07b1349f7448c8c07d2a81b9652c9",
      "89455ba6e873425d9e5526c91791a12f",
      "ff30c92096424a879651c49ba80707b1"
     ]
    },
    "executionInfo": {
     "elapsed": 11910,
     "status": "ok",
     "timestamp": 1746959218656,
     "user": {
      "displayName": "구종빈",
      "userId": "04413789043138554649"
     },
     "user_tz": -540
    },
    "id": "a9wotPy2n7zH",
    "outputId": "f4ebef4f-fbb4-444c-b1e2-0c1962cb735f"
   },
   "outputs": [
    {
     "name": "stderr",
     "output_type": "stream",
     "text": [
      "/usr/local/lib/python3.11/dist-packages/huggingface_hub/utils/_auth.py:94: UserWarning: \n",
      "The secret `HF_TOKEN` does not exist in your Colab secrets.\n",
      "To authenticate with the Hugging Face Hub, create a token in your settings tab (https://huggingface.co/settings/tokens), set it as secret in your Google Colab and restart your session.\n",
      "You will be able to reuse this secret in all of your notebooks.\n",
      "Please note that authentication is recommended but still optional to access public models or datasets.\n",
      "  warnings.warn(\n"
     ]
    },
    {
     "data": {
      "application/vnd.jupyter.widget-view+json": {
       "model_id": "b8f7d013b3ec4821ba99db53ea201c36",
       "version_major": 2,
       "version_minor": 0
      },
      "text/plain": [
       "README.md:   0%|          | 0.00/22.5k [00:00<?, ?B/s]"
      ]
     },
     "metadata": {},
     "output_type": "display_data"
    },
    {
     "data": {
      "application/vnd.jupyter.widget-view+json": {
       "model_id": "21264752f0074129a188c6713208423a",
       "version_major": 2,
       "version_minor": 0
      },
      "text/plain": [
       "train-00000-of-00001.parquet:   0%|          | 0.00/4.17M [00:00<?, ?B/s]"
      ]
     },
     "metadata": {},
     "output_type": "display_data"
    },
    {
     "data": {
      "application/vnd.jupyter.widget-view+json": {
       "model_id": "25ffc0a970ab4ca48113e77e27d4ba2c",
       "version_major": 2,
       "version_minor": 0
      },
      "text/plain": [
       "validation-00000-of-00001.parquet:   0%|          | 0.00/847k [00:00<?, ?B/s]"
      ]
     },
     "metadata": {},
     "output_type": "display_data"
    },
    {
     "data": {
      "application/vnd.jupyter.widget-view+json": {
       "model_id": "61b26fcc8e6e4610af98eb840037cd4c",
       "version_major": 2,
       "version_minor": 0
      },
      "text/plain": [
       "Generating train split:   0%|          | 0/45678 [00:00<?, ? examples/s]"
      ]
     },
     "metadata": {},
     "output_type": "display_data"
    },
    {
     "data": {
      "application/vnd.jupyter.widget-view+json": {
       "model_id": "c0f3b90930604232af3a58883fd94685",
       "version_major": 2,
       "version_minor": 0
      },
      "text/plain": [
       "Generating validation split:   0%|          | 0/9107 [00:00<?, ? examples/s]"
      ]
     },
     "metadata": {},
     "output_type": "display_data"
    },
    {
     "data": {
      "text/plain": [
       "(Dataset({\n",
       "     features: ['guid', 'title', 'label', 'url', 'date'],\n",
       "     num_rows: 45678\n",
       " }),\n",
       " Dataset({\n",
       "     features: ['guid', 'title', 'label', 'url', 'date'],\n",
       "     num_rows: 9107\n",
       " }))"
      ]
     },
     "execution_count": 3,
     "metadata": {},
     "output_type": "execute_result"
    }
   ],
   "source": [
    "from datasets import load_dataset\n",
    "klue_tc_train = load_dataset('klue', 'ynat', split = 'train')\n",
    "klue_tc_eval = load_dataset('klue', 'ynat', split = 'validation')\n",
    "klue_tc_train, klue_tc_eval"
   ]
  },
  {
   "cell_type": "code",
   "execution_count": null,
   "metadata": {
    "colab": {
     "base_uri": "https://localhost:8080/"
    },
    "executionInfo": {
     "elapsed": 7,
     "status": "ok",
     "timestamp": 1746959222041,
     "user": {
      "displayName": "구종빈",
      "userId": "04413789043138554649"
     },
     "user_tz": -540
    },
    "id": "tWXTtsARqK6W",
    "outputId": "b7765fe5-8be0-41ff-c54d-f9fd31ae1793"
   },
   "outputs": [
    {
     "data": {
      "text/plain": [
       "{'guid': 'ynat-v1_train_00000',\n",
       " 'title': '유튜브 내달 2일까지 크리에이터 지원 공간 운영',\n",
       " 'label': 3,\n",
       " 'url': 'https://news.naver.com/main/read.nhn?mode=LS2D&mid=shm&sid1=105&sid2=227&oid=001&aid=0008508947',\n",
       " 'date': '2016.06.30. 오전 10:36'}"
      ]
     },
     "execution_count": 4,
     "metadata": {},
     "output_type": "execute_result"
    }
   ],
   "source": [
    "klue_tc_train[0]"
   ]
  },
  {
   "cell_type": "code",
   "execution_count": null,
   "metadata": {
    "colab": {
     "base_uri": "https://localhost:8080/"
    },
    "executionInfo": {
     "elapsed": 14,
     "status": "ok",
     "timestamp": 1746959225733,
     "user": {
      "displayName": "구종빈",
      "userId": "04413789043138554649"
     },
     "user_tz": -540
    },
    "id": "Ta2Ly6bzraw0",
    "outputId": "9f9a7951-57b7-404b-fa48-77b99436e516"
   },
   "outputs": [
    {
     "data": {
      "text/plain": [
       "['IT과학', '경제', '사회', '생활문화', '세계', '스포츠', '정치']"
      ]
     },
     "execution_count": 5,
     "metadata": {},
     "output_type": "execute_result"
    }
   ],
   "source": [
    "klue_tc_train.features['label'].names"
   ]
  },
  {
   "cell_type": "code",
   "execution_count": null,
   "metadata": {
    "colab": {
     "base_uri": "https://localhost:8080/"
    },
    "executionInfo": {
     "elapsed": 52,
     "status": "ok",
     "timestamp": 1746959228040,
     "user": {
      "displayName": "구종빈",
      "userId": "04413789043138554649"
     },
     "user_tz": -540
    },
    "id": "VRDfJozJrjbs",
    "outputId": "9ffaba14-fa18-416d-e309-b3220b906ed2"
   },
   "outputs": [
    {
     "data": {
      "text/plain": [
       "(Dataset({\n",
       "     features: ['title', 'label'],\n",
       "     num_rows: 45678\n",
       " }),\n",
       " Dataset({\n",
       "     features: ['title', 'label'],\n",
       "     num_rows: 9107\n",
       " }))"
      ]
     },
     "execution_count": 6,
     "metadata": {},
     "output_type": "execute_result"
    }
   ],
   "source": [
    "klue_tc_train = klue_tc_train.remove_columns(['guid', 'url', 'date'])\n",
    "klue_tc_eval = klue_tc_eval.remove_columns(['guid', 'url', 'date'])\n",
    "klue_tc_train, klue_tc_eval"
   ]
  },
  {
   "cell_type": "code",
   "execution_count": null,
   "metadata": {
    "colab": {
     "base_uri": "https://localhost:8080/",
     "height": 111,
     "referenced_widgets": [
      "36b3b23fd1234af8be17930ff2abfc95",
      "aad67abae9c24c92a849d3b77d883cee",
      "8e898ba610d1404e828336074418f580",
      "d279b9adc93541bc995b31ec8fe05683",
      "053a682db440452da8cdd688e3d0f1c9",
      "6756b515438f4ee8bb47bbb0a884bebb",
      "46bfbcd4dd3d4d32a76156265f4eb5e2",
      "43183c8ce8d949d29f78c33a7d28afd8",
      "3047a463d5f64d0c8d30a1b964f6815e",
      "7a696ea9635c4f82b211bf0974da58b7",
      "bddde2dd2d414c1f8fdd182e887318e4"
     ]
    },
    "executionInfo": {
     "elapsed": 245,
     "status": "ok",
     "timestamp": 1746959232128,
     "user": {
      "displayName": "구종빈",
      "userId": "04413789043138554649"
     },
     "user_tz": -540
    },
    "id": "eCIkis36ruWD",
    "outputId": "86626548-e8ce-439e-f044-99c50099f0dd"
   },
   "outputs": [
    {
     "data": {
      "application/vnd.jupyter.widget-view+json": {
       "model_id": "36b3b23fd1234af8be17930ff2abfc95",
       "version_major": 2,
       "version_minor": 0
      },
      "text/plain": [
       "Map:   0%|          | 0/45678 [00:00<?, ? examples/s]"
      ]
     },
     "metadata": {},
     "output_type": "display_data"
    },
    {
     "data": {
      "text/plain": [
       "{'title': '유튜브 내달 2일까지 크리에이터 지원 공간 운영', 'label': 3, 'label_str': '생활문화'}"
      ]
     },
     "execution_count": 7,
     "metadata": {},
     "output_type": "execute_result"
    }
   ],
   "source": [
    "klue_tc_train.features['label']\n",
    "# ClassLabel(names=['IT과학', '경제', '사회', '생활문화', '세계', '스포츠', '정치'], id=None)\n",
    "\n",
    "klue_tc_train.features['label'].int2str(1)\n",
    "# '경제'\n",
    "\n",
    "klue_tc_label = klue_tc_train.features['label']\n",
    "\n",
    "def make_str_label(batch):\n",
    "  batch['label_str'] = klue_tc_label.int2str(batch['label'])\n",
    "  return batch\n",
    "\n",
    "klue_tc_train = klue_tc_train.map(make_str_label, batched=True, batch_size=1000)\n",
    "\n",
    "klue_tc_train[0]"
   ]
  },
  {
   "cell_type": "code",
   "execution_count": null,
   "metadata": {
    "colab": {
     "base_uri": "https://localhost:8080/"
    },
    "executionInfo": {
     "elapsed": 39,
     "status": "ok",
     "timestamp": 1746959239552,
     "user": {
      "displayName": "구종빈",
      "userId": "04413789043138554649"
     },
     "user_tz": -540
    },
    "id": "Ed25rt6iujcq",
    "outputId": "2d3c10b9-721c-4c00-e694-83ed3af906c8"
   },
   "outputs": [
    {
     "data": {
      "text/plain": [
       "(Dataset({\n",
       "     features: ['title', 'label', 'label_str'],\n",
       "     num_rows: 36542\n",
       " }),\n",
       " Dataset({\n",
       "     features: ['title', 'label', 'label_str'],\n",
       "     num_rows: 9136\n",
       " }),\n",
       " Dataset({\n",
       "     features: ['title', 'label'],\n",
       "     num_rows: 9107\n",
       " }))"
      ]
     },
     "execution_count": 8,
     "metadata": {},
     "output_type": "execute_result"
    }
   ],
   "source": [
    "split = klue_tc_train.train_test_split(test_size=0.2, shuffle=True, seed=42)\n",
    "train_dataset = split['train']\n",
    "valid_dataset = split['test']\n",
    "test_dataset = klue_tc_eval\n",
    "train_dataset, valid_dataset, test_dataset"
   ]
  },
  {
   "cell_type": "code",
   "execution_count": null,
   "metadata": {
    "colab": {
     "base_uri": "https://localhost:8080/",
     "height": 379,
     "referenced_widgets": [
      "6346aacb9f6b48398cc9330b34b4dfb7",
      "5a107fbcd2b34b84a59994c57dfd3d54",
      "587343d3d394443383b53ea6e756a3d5",
      "26cca727f6ee4d5fab3d1a1c774cee84",
      "c0a54e69f71a408baa687fd65ed861d8",
      "69261d981bd3437099e0038240add116",
      "6f2f57b40af34c1fa68b2cc039e4eaae",
      "fd07c2baa6494faaa4a9a0d1d01a155a",
      "3f9f3f6cad2e47dea8184e14562db3d1",
      "3781593358024f23b46e8f7d82165c82",
      "57978215cae14369a620d0a6a983b8eb",
      "58314bfafc7b4414810f97f518752c13",
      "69f9eb2fd75c4fb3bf9302bb2a137e96",
      "ae10f8cc82ed471c9a0b53e0723b4444",
      "4a26337ac83f407c97651cefad26cec4",
      "c3599501f5794a7789515961dc81dd04",
      "dda22105eb924d19aaffa068d0f19455",
      "16225efb9a844e378ac41886477bcab2",
      "8e6f988f24874047800212e99e81fcfa",
      "8c35ecf407434be3af02b634c169133d",
      "1b221ed2b16c44e29fe76347114b8677",
      "2b0fe067aff543189ab730ecd8a8652a",
      "41d99dc803e941a0a7983fb9ab30b250",
      "3d3a486c9fdc434f978866dbae0ad300",
      "eaafa7ee5e42480e84d9699e25a560ff",
      "180c4be1bf164f5d945b0af8c0337c78",
      "0e84ae150c944f32897b1b8752603448",
      "7bf284401e8c4f2191122ab48ae2eab9",
      "4a42c363eed443ceb116060261069cb5",
      "0893584a7f7e4910871bc4e22aa375c1",
      "f6759991243c4fddb2ee22252e7764d4",
      "09b34f63f8f247f4bb7aab7d38fe6e1e",
      "091271a879af43bc8f61386ad7a4b569",
      "39375a14694d4b40ab0e04a28863c75d",
      "7f904af2cca34ab2a220201425b06bdd",
      "5d23f0588d784a999fa8fe75ec9f0248",
      "fcd5f155ac1f48c499d7ad1c5a267b6c",
      "45773f2b474f4a2eb8884e59269ca6e1",
      "f0232d0a237d4c98b9d5309f3638e6ad",
      "f52d4c5bc8b34f148fa71cc9c19a4f4d",
      "69fd63ecc9854ee69c4b4a4df7a2089b",
      "d444b812af7f43d491a7b2f86f9d9183",
      "8d6e5e7db3c345e69ad1e29888180c79",
      "9aa559c332d04d8b9362c4fae42bbd5f",
      "8c5168300e8f461091c1ddd56cb07789",
      "6e1e3f85d3914c049ad858b16c14c6da",
      "1f619ed1aa7346328b77a0998fda3ab0",
      "1f1d860415724080a640fb11fc31df12",
      "b22aca8909a34fa6a09fe5549f40d245",
      "2e14f99efe2546509e01f2d78cb3a973",
      "faa18d6cdd2a4bb29eb3dbee349447b0",
      "54feb85744d843889f1b48cb1f2d7e45",
      "bdff69aeb2f44dc78dbcf4d57fd2edbc",
      "6e7e4d71445842ab9595db2394876af1",
      "6e2637cabab845cfb3a53d69b552dd45",
      "91209c08521b429e9874b15dc82782c0",
      "e06e562d61b443ffb931d10bc4f29dd7",
      "5a887b5b71ca4195a3174d12e7147555",
      "cec11b2f55db4a75a3a55609902366b3",
      "0ae2307706bb400ab63e64714564a6ae",
      "ada7b04fedf843a6b17598ae07481131",
      "656bc4dbb87a49f18fd9331ac08a9605",
      "53a834a094d1494a80a14216ce7a130e",
      "597af5deeb054995b5465ab76f4958bd",
      "f7bd5dc1c8aa4a4f8460d5c6153a5013",
      "708f3891c34e4107ac073a05e5454c05",
      "41913add4abb4875846853bc92c8cd2b",
      "d1a5a3208bb84bee9939e73706fcd0b7",
      "8ef9fe6a764e49878d729d6e2f57e922",
      "459fa96d78f647e6ad9d3d9e6275662c",
      "c69e2145c77e4732a35002ab4a07d2a6",
      "b7083518a77c41609bdfc46f6df6169c",
      "e5259b0c7deb4b1497901123820a4ee3",
      "ee958ad9cf7c4b06ab1a40014f966640",
      "1ee518c708af4b0abeca9b6571014c81",
      "b02d783331484b3ba7895f643315ee8a",
      "9a0ad0c2780d4d2dbd57ac9d4771558e"
     ]
    },
    "executionInfo": {
     "elapsed": 43060,
     "status": "ok",
     "timestamp": 1746959292363,
     "user": {
      "displayName": "구종빈",
      "userId": "04413789043138554649"
     },
     "user_tz": -540
    },
    "id": "Av47CrD0w2TF",
    "outputId": "3ed437a0-d23e-4610-cfb7-e4e7d0aaf868"
   },
   "outputs": [
    {
     "data": {
      "application/vnd.jupyter.widget-view+json": {
       "model_id": "6346aacb9f6b48398cc9330b34b4dfb7",
       "version_major": 2,
       "version_minor": 0
      },
      "text/plain": [
       "config.json:   0%|          | 0.00/619 [00:00<?, ?B/s]"
      ]
     },
     "metadata": {},
     "output_type": "display_data"
    },
    {
     "data": {
      "application/vnd.jupyter.widget-view+json": {
       "model_id": "58314bfafc7b4414810f97f518752c13",
       "version_major": 2,
       "version_minor": 0
      },
      "text/plain": [
       "model.safetensors:   0%|          | 0.00/438M [00:00<?, ?B/s]"
      ]
     },
     "metadata": {},
     "output_type": "display_data"
    },
    {
     "name": "stderr",
     "output_type": "stream",
     "text": [
      "Some weights of BertForSequenceClassification were not initialized from the model checkpoint at beomi/kcbert-base and are newly initialized: ['classifier.bias', 'classifier.weight']\n",
      "You should probably TRAIN this model on a down-stream task to be able to use it for predictions and inference.\n"
     ]
    },
    {
     "data": {
      "application/vnd.jupyter.widget-view+json": {
       "model_id": "41d99dc803e941a0a7983fb9ab30b250",
       "version_major": 2,
       "version_minor": 0
      },
      "text/plain": [
       "tokenizer_config.json:   0%|          | 0.00/49.0 [00:00<?, ?B/s]"
      ]
     },
     "metadata": {},
     "output_type": "display_data"
    },
    {
     "data": {
      "application/vnd.jupyter.widget-view+json": {
       "model_id": "39375a14694d4b40ab0e04a28863c75d",
       "version_major": 2,
       "version_minor": 0
      },
      "text/plain": [
       "vocab.txt:   0%|          | 0.00/250k [00:00<?, ?B/s]"
      ]
     },
     "metadata": {},
     "output_type": "display_data"
    },
    {
     "data": {
      "application/vnd.jupyter.widget-view+json": {
       "model_id": "8c5168300e8f461091c1ddd56cb07789",
       "version_major": 2,
       "version_minor": 0
      },
      "text/plain": [
       "Map:   0%|          | 0/36542 [00:00<?, ? examples/s]"
      ]
     },
     "metadata": {},
     "output_type": "display_data"
    },
    {
     "data": {
      "application/vnd.jupyter.widget-view+json": {
       "model_id": "91209c08521b429e9874b15dc82782c0",
       "version_major": 2,
       "version_minor": 0
      },
      "text/plain": [
       "Map:   0%|          | 0/9136 [00:00<?, ? examples/s]"
      ]
     },
     "metadata": {},
     "output_type": "display_data"
    },
    {
     "data": {
      "application/vnd.jupyter.widget-view+json": {
       "model_id": "41913add4abb4875846853bc92c8cd2b",
       "version_major": 2,
       "version_minor": 0
      },
      "text/plain": [
       "Map:   0%|          | 0/9107 [00:00<?, ? examples/s]"
      ]
     },
     "metadata": {},
     "output_type": "display_data"
    }
   ],
   "source": [
    "import torch\n",
    "import numpy as np\n",
    "from transformers import AutoTokenizer, AutoModelForSequenceClassification, TrainingArguments, Trainer\n",
    "def tokenize_function(examples):\n",
    "    return tokenizer(examples['title'], padding = 'max_length', truncation = True)\n",
    "model_id = 'beomi/kcbert-base'\n",
    "model = AutoModelForSequenceClassification.from_pretrained(model_id, num_labels=len(train_dataset.features['label'].names))\n",
    "tokenizer = AutoTokenizer.from_pretrained(model_id)\n",
    "\n",
    "train_dataset = train_dataset.map(tokenize_function, batched=True)\n",
    "valid_dataset = valid_dataset.map(tokenize_function, batched=True)\n",
    "test_dataset = test_dataset.map(tokenize_function, batched=True)"
   ]
  },
  {
   "cell_type": "code",
   "execution_count": null,
   "metadata": {
    "colab": {
     "base_uri": "https://localhost:8080/"
    },
    "executionInfo": {
     "elapsed": 46,
     "status": "ok",
     "timestamp": 1746959293173,
     "user": {
      "displayName": "구종빈",
      "userId": "04413789043138554649"
     },
     "user_tz": -540
    },
    "id": "8f4X51-Hyknw",
    "outputId": "87621054-8f26-4c50-d981-fe4fd6c4da56"
   },
   "outputs": [
    {
     "name": "stderr",
     "output_type": "stream",
     "text": [
      "/usr/local/lib/python3.11/dist-packages/transformers/training_args.py:1611: FutureWarning: `evaluation_strategy` is deprecated and will be removed in version 4.46 of 🤗 Transformers. Use `eval_strategy` instead\n",
      "  warnings.warn(\n"
     ]
    }
   ],
   "source": [
    "from sklearn.metrics import accuracy_score, precision_recall_fscore_support\n",
    "training_args = TrainingArguments(\n",
    "    output_dir=\"./results\",\n",
    "    num_train_epochs=1,\n",
    "    per_device_train_batch_size=8,\n",
    "    per_device_eval_batch_size=8,\n",
    "    evaluation_strategy=\"epoch\",\n",
    "    learning_rate=5e-5,\n",
    "    push_to_hub=False,\n",
    "    report_to=\"none\"\n",
    ")\n",
    "\n",
    "def compute_metrics(eval_pred):\n",
    "    logits, labels = eval_pred\n",
    "    preds = np.argmax(logits, axis=-1)\n",
    "    acc = accuracy_score(labels, preds)\n",
    "    return {\"accuracy\": acc}\n"
   ]
  },
  {
   "cell_type": "code",
   "execution_count": 11,
   "metadata": {
    "colab": {
     "base_uri": "https://localhost:8080/",
     "height": 391
    },
    "executionInfo": {
     "elapsed": 2132427,
     "status": "ok",
     "timestamp": 1746961691462,
     "user": {
      "displayName": "구종빈",
      "userId": "04413789043138554649"
     },
     "user_tz": -540
    },
    "id": "Co30zqotz2fG",
    "outputId": "7520660e-2de0-414f-c438-d033ae602a76"
   },
   "outputs": [
    {
     "metadata": {
      "tags": null
     },
     "name": "stderr",
     "output_type": "stream",
     "text": [
      "<ipython-input-11-ca2cb01184e9>:3: FutureWarning: `tokenizer` is deprecated and will be removed in version 5.0.0 for `Trainer.__init__`. Use `processing_class` instead.\n",
      "  trainer = Trainer(\n"
     ]
    },
    {
     "data": {
      "text/html": [
       "\n",
       "    <div>\n",
       "      \n",
       "      <progress value='558' max='4568' style='width:300px; height:20px; vertical-align: middle;'></progress>\n",
       "      [ 558/4568 04:02 < 29:07, 2.29 it/s, Epoch 0.12/1]\n",
       "    </div>\n",
       "    <table border=\"1\" class=\"dataframe\">\n",
       "  <thead>\n",
       " <tr style=\"text-align: left;\">\n",
       "      <th>Epoch</th>\n",
       "      <th>Training Loss</th>\n",
       "      <th>Validation Loss</th>\n",
       "    </tr>\n",
       "  </thead>\n",
       "  <tbody>\n",
       "  </tbody>\n",
       "</table><p>"
      ],
      "text/plain": [
       "<IPython.core.display.HTML object>"
      ]
     },
     "metadata": {},
     "output_type": "display_data"
    },
    {
     "data": {
      "text/html": [
       "\n",
       "    <div>\n",
       "      \n",
       "      <progress value='4568' max='4568' style='width:300px; height:20px; vertical-align: middle;'></progress>\n",
       "      [4568/4568 36:58, Epoch 1/1]\n",
       "    </div>\n",
       "    <table border=\"1\" class=\"dataframe\">\n",
       "  <thead>\n",
       " <tr style=\"text-align: left;\">\n",
       "      <th>Epoch</th>\n",
       "      <th>Training Loss</th>\n",
       "      <th>Validation Loss</th>\n",
       "      <th>Accuracy</th>\n",
       "    </tr>\n",
       "  </thead>\n",
       "  <tbody>\n",
       "    <tr>\n",
       "      <td>1</td>\n",
       "      <td>0.418200</td>\n",
       "      <td>0.441025</td>\n",
       "      <td>0.858472</td>\n",
       "    </tr>\n",
       "  </tbody>\n",
       "</table><p>"
      ],
      "text/plain": [
       "<IPython.core.display.HTML object>"
      ]
     },
     "metadata": {},
     "output_type": "display_data"
    },
    {
     "data": {
      "text/html": [
       "\n",
       "    <div>\n",
       "      \n",
       "      <progress value='1139' max='1139' style='width:300px; height:20px; vertical-align: middle;'></progress>\n",
       "      [1139/1139 02:41]\n",
       "    </div>\n",
       "    "
      ],
      "text/plain": [
       "<IPython.core.display.HTML object>"
      ]
     },
     "metadata": {},
     "output_type": "display_data"
    },
    {
     "name": "stdout",
     "output_type": "stream",
     "text": [
      "학습 시간: 37.0분0.42205357551574707초\n",
      "GPU 메모리 사용량: 2.71 GB\n",
      "평가 결과:\n",
      "  - eval_loss: 0.5441\n",
      "  - eval_accuracy: 0.8139\n",
      "  - eval_runtime: 161.5606\n",
      "  - eval_samples_per_second: 56.3690\n",
      "  - eval_steps_per_second: 7.0500\n",
      "  - epoch: 1.0000\n"
     ]
    }
   ],
   "source": [
    "import time\n",
    "import torch\n",
    "trainer = Trainer(\n",
    "    model=model,\n",
    "    args=training_args,\n",
    "    train_dataset=train_dataset,\n",
    "    eval_dataset=valid_dataset,\n",
    "    tokenizer=tokenizer,\n",
    "    compute_metrics=compute_metrics,\n",
    ")\n",
    "torch.cuda.reset_peak_memory_stats()\n",
    "start_time = time.time()\n",
    "trainer.train()\n",
    "end_time = time.time()\n",
    "total_time = end_time - start_time\n",
    "minutes = total_time // 60\n",
    "seconds = total_time % 60\n",
    "gpu_memory = torch.cuda.max_memory_allocated() / (1024 ** 3)\n",
    "eval_results = trainer.evaluate(test_dataset)\n",
    "print(f\"학습 시간: {minutes}분{seconds}초\")\n",
    "print(f\"GPU 메모리 사용량: {gpu_memory:.2f} GB\")\n",
    "print(\"평가 결과:\")\n",
    "for k, v in eval_results.items():\n",
    "    print(f\"  - {k}: {v:.4f}\" if isinstance(v, float) else f\"  - {k}: {v}\")"
   ]
  },
  {
   "cell_type": "code",
   "execution_count": 12,
   "metadata": {
    "colab": {
     "base_uri": "https://localhost:8080/"
    },
    "executionInfo": {
     "elapsed": 38,
     "status": "ok",
     "timestamp": 1746962331607,
     "user": {
      "displayName": "구종빈",
      "userId": "04413789043138554649"
     },
     "user_tz": -540
    },
    "id": "HTVojo6_2Ihh",
    "outputId": "b0a567a4-213e-46dd-b0da-f4edae406400"
   },
   "outputs": [
    {
     "name": "stdout",
     "output_type": "stream",
     "text": [
      "💾 모델 저장 용량: 12476.68 MB (12.18 GB)\n"
     ]
    }
   ],
   "source": [
    "import os\n",
    "\n",
    "def get_dir_size(path):\n",
    "    total = 0\n",
    "    for dirpath, dirnames, filenames in os.walk(path):\n",
    "        for f in filenames:\n",
    "            fp = os.path.join(dirpath, f)\n",
    "            if os.path.isfile(fp):\n",
    "                total += os.path.getsize(fp)\n",
    "    return total\n",
    "\n",
    "# 모델 저장 디렉토리 (Trainer의 output_dir과 같아야 함)\n",
    "model_dir = \"./results\"\n",
    "\n",
    "# 바이트 → 메가바이트 또는 기가바이트\n",
    "model_size_bytes = get_dir_size(model_dir)\n",
    "model_size_mb = model_size_bytes / (1024 ** 2)\n",
    "model_size_gb = model_size_bytes / (1024 ** 3)\n",
    "\n",
    "print(f\"💾 모델 저장 용량: {model_size_mb:.2f} MB ({model_size_gb:.2f} GB)\")"
   ]
  },
  {
   "cell_type": "code",
   "execution_count": null,
   "metadata": {
    "id": "2-OnFyV9EbUD"
   },
   "outputs": [],
   "source": []
  }
 ],
 "metadata": {
  "accelerator": "GPU",
  "colab": {
   "authorship_tag": "ABX9TyO/Exjb9IuV73+HMYyhskbm",
   "gpuType": "T4",
   "provenance": []
  },
  "kernelspec": {
   "display_name": "Python 3",
   "name": "python3"
  },
  "language_info": {
   "name": "python"
  }
 },
 "nbformat": 4,
 "nbformat_minor": 0
}
